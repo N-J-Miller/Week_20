{
 "cells": [
  {
   "cell_type": "markdown",
   "id": "d46b4abe",
   "metadata": {},
   "source": [
    "# Week 20 Group Activity"
   ]
  },
  {
   "cell_type": "code",
   "execution_count": 3,
   "id": "d2a6e8a2",
   "metadata": {},
   "outputs": [],
   "source": [
    "# Dependencies and modules:\n",
    "\n",
    "import nltk\n",
    "import numpy as np\n",
    "import pandas as pd"
   ]
  },
  {
   "cell_type": "code",
   "execution_count": null,
   "id": "93fb656d",
   "metadata": {},
   "outputs": [],
   "source": []
  },
  {
   "cell_type": "code",
   "execution_count": null,
   "id": "cb10cde7",
   "metadata": {},
   "outputs": [],
   "source": []
  },
  {
   "cell_type": "markdown",
   "id": "ca1497a9",
   "metadata": {},
   "source": [
    "### 1. Take the result of the following line of code (but use whatever available text you want) and write a function to concatenate the data back into sentences, with one readable sentence in each list.\n",
    "\n",
    "sentences = nltk.corpus.gutenberg.sents(\"carroll-alice.txt\")[:10]"
   ]
  },
  {
   "cell_type": "code",
   "execution_count": 10,
   "id": "e8275b6e",
   "metadata": {},
   "outputs": [
    {
     "data": {
      "text/plain": [
       "['In',\n",
       " 'another',\n",
       " 'moment',\n",
       " 'down',\n",
       " 'went',\n",
       " 'Alice',\n",
       " 'after',\n",
       " 'it',\n",
       " ',',\n",
       " 'never',\n",
       " 'once',\n",
       " 'considering',\n",
       " 'how',\n",
       " 'in',\n",
       " 'the',\n",
       " 'world',\n",
       " 'she',\n",
       " 'was',\n",
       " 'to',\n",
       " 'get',\n",
       " 'out',\n",
       " 'again',\n",
       " '.']"
      ]
     },
     "execution_count": 10,
     "metadata": {},
     "output_type": "execute_result"
    }
   ],
   "source": [
    "sentences = nltk.corpus.gutenberg.sents(\"carroll-alice.txt\")[:10]\n",
    "sentences[9]"
   ]
  },
  {
   "cell_type": "code",
   "execution_count": null,
   "id": "bded5a2b",
   "metadata": {},
   "outputs": [],
   "source": []
  },
  {
   "cell_type": "code",
   "execution_count": null,
   "id": "f9ea83d2",
   "metadata": {},
   "outputs": [],
   "source": []
  },
  {
   "cell_type": "markdown",
   "id": "2ef34f44",
   "metadata": {},
   "source": [
    "### 2. Create a function that accepts a list of values. Filter out all values that are numeric and return the new list.\n",
    "\n",
    "**Input:**\\\n",
    "[1,2,'a','b',7.6]\n",
    "\n",
    "**Output:**\\\n",
    "[‘a’,’b’]"
   ]
  },
  {
   "cell_type": "code",
   "execution_count": null,
   "id": "531e8904",
   "metadata": {},
   "outputs": [],
   "source": []
  }
 ],
 "metadata": {
  "kernelspec": {
   "display_name": "Python 3 (ipykernel)",
   "language": "python",
   "name": "python3"
  },
  "language_info": {
   "codemirror_mode": {
    "name": "ipython",
    "version": 3
   },
   "file_extension": ".py",
   "mimetype": "text/x-python",
   "name": "python",
   "nbconvert_exporter": "python",
   "pygments_lexer": "ipython3",
   "version": "3.9.7"
  }
 },
 "nbformat": 4,
 "nbformat_minor": 5
}
